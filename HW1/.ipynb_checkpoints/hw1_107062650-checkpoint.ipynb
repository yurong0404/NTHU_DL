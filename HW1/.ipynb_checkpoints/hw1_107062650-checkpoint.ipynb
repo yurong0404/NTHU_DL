{
 "cells": [
  {
   "cell_type": "code",
   "execution_count": 1001,
   "metadata": {},
   "outputs": [],
   "source": [
    "import pandas as pd\n",
    "import numpy as np\n",
    "import matplotlib.pyplot as plt\n",
    "import math\n",
    "import seaborn as sn"
   ]
  },
  {
   "cell_type": "markdown",
   "metadata": {},
   "source": [
    "## Part 1 (a): Train.csv切成Training set和Testing set，並且normalize"
   ]
  },
  {
   "cell_type": "code",
   "execution_count": 1017,
   "metadata": {},
   "outputs": [],
   "source": [
    "def data_preprocess():\n",
    "    select_columns = ['school','sex','age','famsize','studytime','failures','activities','higher','internet','romantic','famrel','freetime','goout','Dalc','Walc','health','absences','G3']\n",
    "    df = pd.read_csv('train.csv')\n",
    "    df = df[select_columns]\n",
    "    df = pd.get_dummies(df)\n",
    "    #divide into train and test dataframe\n",
    "    train_df = df.sample(frac=0.8)\n",
    "    test_df = df.drop(train_df.index)\n",
    "    train_df = train_df.reset_index()\n",
    "    test_df = test_df.reset_index()\n",
    "    train_G3 = train_df[['G3']]\n",
    "    test_G3 = test_df[['G3']]\n",
    "    train_df = train_df.drop(columns=['index', 'G3'])\n",
    "    test_df = test_df.drop(columns=['index', 'G3'])\n",
    "\n",
    "    #normalize\n",
    "    train_df = (train_df-train_df.mean())/train_df.std()\n",
    "    test_df = (test_df-test_df.mean())/test_df.std()\n",
    "    train_df = train_df.values\n",
    "    test_df = test_df.values\n",
    "    return train_G3, test_G3, train_df, test_df"
   ]
  },
  {
   "cell_type": "markdown",
   "metadata": {},
   "source": [
    "## Part1 (b): Linear Regression with Pseudo-inverse"
   ]
  },
  {
   "cell_type": "code",
   "execution_count": 1003,
   "metadata": {},
   "outputs": [],
   "source": [
    "def LR_pseudo_inverse(train_df, test_df, train_G3, test_G3):\n",
    "    A_transpose = np.transpose(train_df)\n",
    "    AA_inverse = np.linalg.pinv(np.matmul(np.transpose(train_df), train_df))\n",
    "\n",
    "    #X is weight\n",
    "    X = np.matmul(np.matmul(AA_inverse, A_transpose), train_G3)\n",
    "    LR_predict_G3 = np.matmul(test_df, X)\n",
    "    LR_RMSE = float((np.sum((LR_predict_G3-test_G3)**2)/len(test_G3))**(1/2))\n",
    "    print(\"Linear Regression with Pseudo-inverse\\nRMSE: \"+str(LR_RMSE)+'\\n')\n",
    "    return LR_predict_G3, LR_RMSE"
   ]
  },
  {
   "cell_type": "markdown",
   "metadata": {},
   "source": [
    "## Part1 (c): Linear Regression with regularization λ = 1.0"
   ]
  },
  {
   "cell_type": "code",
   "execution_count": 1004,
   "metadata": {},
   "outputs": [],
   "source": [
    "def LR_reg(train_df, test_df, train_G3, test_G3):\n",
    "    lamb = 1\n",
    "    A_transpose = np.transpose(train_df)\n",
    "\n",
    "    AA_lambda_inverse = np.linalg.pinv((np.matmul(np.transpose(train_df), train_df) + (lamb*np.identity(train_df.shape[1]))))\n",
    "    #X is weight\n",
    "    X = np.matmul(np.matmul(AA_lambda_inverse, A_transpose), train_G3)\n",
    "\n",
    "    LR_reg_predict_G3 = np.matmul(test_df, X)\n",
    "    LR_reg_RMSE = float((np.sum((LR_reg_predict_G3-test_G3)**2)/len(test_G3))**(1/2))\n",
    "    print(\"Linear Regression with regularization λ = 1.0\\nRMSE: \"+str(LR_reg_RMSE)+'\\n')\n",
    "    return LR_reg_predict_G3, LR_reg_RMSE"
   ]
  },
  {
   "cell_type": "markdown",
   "metadata": {},
   "source": [
    "## Part1 (d): Linear Regression with regularization λ = 1.0 and bias term"
   ]
  },
  {
   "cell_type": "code",
   "execution_count": 1005,
   "metadata": {},
   "outputs": [],
   "source": [
    "def LR_reg_bias(train_df, test_df, train_G3, test_G3):\n",
    "    lamb = 1\n",
    "    A = np.insert(train_df, 0, np.ones((1, train_df.shape[0])), axis=1)\n",
    "    A_transpose = np.transpose(A)\n",
    "    identity_bias = np.identity(train_df.shape[1]+1)\n",
    "    identity_bias[:,0] = 0\n",
    "\n",
    "    AA_lambda_inverse = np.linalg.pinv(np.matmul(A_transpose, A) + (lamb*identity_bias))\n",
    "\n",
    "    #X is weight\n",
    "    X = np.matmul(np.matmul(AA_lambda_inverse, A_transpose), train_G3)\n",
    "\n",
    "    LR_reg_bias_predict_G3 = np.matmul(np.insert(test_df, 0, np.ones((1, test_df.shape[0])), axis=1), X)\n",
    "    LR_reg_bias_RMSE = float((np.sum((LR_reg_bias_predict_G3-test_G3)**2)/len(test_G3))**(1/2))\n",
    "    print(\"Linear Regression with regularization λ = 1.0 and bias term\\nRMSE: \"+str(LR_reg_bias_RMSE)+'\\n')\n",
    "    return LR_reg_bias_predict_G3, LR_reg_bias_RMSE, X"
   ]
  },
  {
   "cell_type": "markdown",
   "metadata": {},
   "source": [
    "## Part1 (f): Plot the ground truth (G3) versus all predicted values"
   ]
  },
  {
   "cell_type": "code",
   "execution_count": 1006,
   "metadata": {},
   "outputs": [],
   "source": [
    "def plot_result(test_G3, LR_predict_G3, LR_reg_predict_G3, LR_reg_bias_predict_G3, LR_RMSE, LR_reg_RMSE, LR_reg_bias_RMSE ):\n",
    "    plt.plot(np.arange(0,200) ,test_G3, \"b\", label=\"Ground Truth\")\n",
    "    plt.plot(np.arange(0,200) ,LR_predict_G3, \"y\", label=\"(\"+str(round(LR_RMSE, 2))+\")\"+\" Linear Regression\")\n",
    "    plt.plot(np.arange(0,200) ,LR_reg_predict_G3, \"g\", label=\"(\"+str(round(LR_reg_RMSE, 2))+\")\"+\" Linear Regression (reg)\")\n",
    "    plt.plot(np.arange(0,200) ,LR_reg_bias_predict_G3, \"r\", label=\"(\"+str(round(LR_reg_bias_RMSE, 2))+\")\"+\" Linear Regression(r/b)\")\n",
    "    plt.ylim(-15,20)\n",
    "    plt.ylabel(\"Value\")\n",
    "    plt.xlabel(\"Sample index\")\n",
    "    plt.title(\"Regression result comparision\")\n",
    "\n",
    "    plt.grid()\n",
    "    plt.legend(loc =4)\n",
    "    plt.show()"
   ]
  },
  {
   "cell_type": "markdown",
   "metadata": {},
   "source": [
    "## Part2 (a)"
   ]
  },
  {
   "cell_type": "code",
   "execution_count": 1007,
   "metadata": {},
   "outputs": [],
   "source": [
    "def LR_reg_bias_part2():\n",
    "\n",
    "    select_columns = ['school','sex','age','famsize','studytime','failures','activities','higher','internet','romantic','famrel','freetime','goout','Dalc','Walc','health','absences','G3']\n",
    "    df = pd.read_csv('train.csv')\n",
    "    df = df[select_columns]\n",
    "    df = pd.get_dummies(df)\n",
    "    \n",
    "    #divide into train and test dataframe\n",
    "    train_df = df.sample(frac=0.8)\n",
    "    test_df = df.drop(train_df.index)\n",
    "    train_df = train_df.reset_index()\n",
    "    test_df = test_df.reset_index()\n",
    "\n",
    "    train_df.insert(loc=train_df.shape[1], column='G3_c', value=0)\n",
    "    test_df.insert(loc=test_df.shape[1], column='G3_c', value=0)\n",
    "\n",
    "    train_df.loc[train_df['G3'] >= 10, 'G3_c'] = 1\n",
    "    test_df.loc[test_df['G3'] >= 10, 'G3_c'] = 1\n",
    "    train_G3_c = train_df['G3_c']\n",
    "    test_G3_c = test_df['G3_c']\n",
    "    test_G3 = test_df['G3']\n",
    "    train_df = train_df.drop(columns=['index', 'G3', 'G3_c'])\n",
    "    test_df = test_df.drop(columns=['index', 'G3', 'G3_c'])\n",
    "\n",
    "    #normalize\n",
    "    train_df = (train_df-train_df.mean())/train_df.std()\n",
    "    test_df = (test_df-test_df.mean())/test_df.std()\n",
    "    train_df = train_df.values\n",
    "    test_df = test_df.values\n",
    "    \n",
    "    lamb = 1\n",
    "    A = np.insert(train_df, 0, np.ones((1, train_df.shape[0])), axis=1)\n",
    "    A_transpose = np.transpose(A)\n",
    "    identity_bias = np.identity(train_df.shape[1]+1)\n",
    "    identity_bias[:,0] = 0\n",
    "\n",
    "    AA_lambda_inverse = np.linalg.pinv(np.matmul(A_transpose, A) + (lamb*identity_bias))\n",
    "\n",
    "    #X is weight\n",
    "    X = np.matmul(np.matmul(AA_lambda_inverse, A_transpose), train_G3_c)\n",
    "\n",
    "    LR_reg_bias_predict_G3 = np.matmul(np.insert(test_df, 0, np.ones((1, test_df.shape[0])), axis=1), X)\n",
    "    \n",
    "    LR_reg_bias_RMSE = float((np.sum((LR_reg_bias_predict_G3-test_G3_c)**2)/len(test_G3_c))**(1/2))\n",
    "    print(\"Linear Regression with regularization λ = 1.0 and bias term\\nRMSE: \"+str(LR_reg_bias_RMSE)+'\\n')\n",
    "    LR_reg_bias_predict_G3_09 = np.zeros(200)\n",
    "    LR_reg_bias_predict_G3_05 = np.zeros(200)\n",
    "    LR_reg_bias_predict_G3_01 = np.zeros(200)\n",
    "    LR_reg_bias_predict_G3_09[:][LR_reg_bias_predict_G3[:] < 0.9] = 0\n",
    "    LR_reg_bias_predict_G3_09[:][LR_reg_bias_predict_G3[:] > 0.9] = 1\n",
    "    LR_reg_bias_predict_G3_05[:][LR_reg_bias_predict_G3[:] < 0.5] = 0\n",
    "    LR_reg_bias_predict_G3_05[:][LR_reg_bias_predict_G3[:] > 0.5] = 1\n",
    "    LR_reg_bias_predict_G3_01[:][LR_reg_bias_predict_G3[:] < 0.1] = 0\n",
    "    LR_reg_bias_predict_G3_01[:][LR_reg_bias_predict_G3[:] > 0.1] = 1\n",
    "    d = {'True_G3':test_G3,'True_G3_c':test_G3_c , 'predict_G3_0.9':LR_reg_bias_predict_G3_09, 'predict_G3_0.5':LR_reg_bias_predict_G3_05,'predict_G3_0.1':LR_reg_bias_predict_G3_01}\n",
    "    result_df = pd.DataFrame(data=d)\n",
    "    print(result_df)\n",
    "\n",
    "    LR_reg_bias_RMSE = float((np.sum((LR_reg_bias_predict_G3-test_G3_c)**2)/len(test_G3_c))**(1/2))\n",
    "    print(\"Linear Regression with regularization λ = 1.0 and bias term\\nRMSE: \"+str(LR_reg_bias_RMSE)+'\\n')\n",
    "    \n",
    "    return result_df"
   ]
  },
  {
   "cell_type": "markdown",
   "metadata": {},
   "source": [
    "## Part2 (b): logistic regression with gradient descent"
   ]
  },
  {
   "cell_type": "code",
   "execution_count": 1045,
   "metadata": {},
   "outputs": [],
   "source": [
    "def cost_func(X, y, theta):\n",
    "    sigmoid_v = np.vectorize(sigmoid)\n",
    "    #log_v = np.vectorize(math.log)\n",
    "    sigmoid_term = sigmoid_v(np.matmul(X,theta.T))\n",
    "    log_term = np.log2(sigmoid_term)\n",
    "    log_term2 = np.log2(np.ones(sigmoid_term.shape[0])-sigmoid_term)\n",
    "    cost = np.matmul(-y, log_term) - np.matmul(np.ones(y.shape[0])-y, log_term2)\n",
    "\n",
    "    return float(cost)"
   ]
  },
  {
   "cell_type": "code",
   "execution_count": 1046,
   "metadata": {},
   "outputs": [],
   "source": [
    "def sigmoid(z):\n",
    "    return 1 / (1 + np.exp(-z))"
   ]
  },
  {
   "cell_type": "code",
   "execution_count": 1082,
   "metadata": {},
   "outputs": [],
   "source": [
    "def gradientDescent(X, y, lr, iters):\n",
    "    lamb = 0\n",
    "    parameter = X.shape[1]\n",
    "    theta = np.ones(X.shape[1])\n",
    "    sigmoid_v = np.vectorize(sigmoid)\n",
    "    cost = []\n",
    "    current_iter = 0\n",
    "    for i in range(iters):\n",
    "        current_iter += 1\n",
    "        error = sigmoid_v(np.matmul(X, theta.T)) - y\n",
    "        for j in range(parameter):\n",
    "            if j==0:\n",
    "                theta[j] = theta[j] - (lr/X.shape[0])*np.sum(np.matmul(error, X[:,j]))\n",
    "            else:\n",
    "                theta[j] = theta[j] - (lr/X.shape[0])*(np.sum(np.matmul(error, X[:,j])) + lamb*(theta[j]))\n",
    "        cost.append(cost_func(X, y, theta))\n",
    "        if len(cost) > 1:\n",
    "            if (cost[-2] - cost[-1]) <  0.000000001:\n",
    "                print('early stop, '+str(current_iter)+' iters')\n",
    "                print('cost: ' + str(cost[-1]))\n",
    "                break;\n",
    "    print('cost: '+str(cost[-1]))\n",
    "    return cost, theta"
   ]
  },
  {
   "cell_type": "code",
   "execution_count": 1048,
   "metadata": {},
   "outputs": [],
   "source": [
    "def logistic_R():\n",
    "    select_columns = ['school','sex','age','famsize','studytime','failures','activities','higher','internet','romantic','famrel','freetime','goout','Dalc','Walc','health','absences','G3']\n",
    "    df = pd.read_csv('train.csv')\n",
    "    df = df[select_columns]\n",
    "    df = pd.get_dummies(df)\n",
    "\n",
    "    #divide into train and test dataframe\n",
    "    train_df = df.sample(frac=0.8)\n",
    "    test_df = df.drop(train_df.index)\n",
    "    train_df = train_df.reset_index()\n",
    "    test_df = test_df.reset_index()\n",
    "\n",
    "    train_df.insert(loc=train_df.shape[1], column='G3_c', value=0)\n",
    "    test_df.insert(loc=test_df.shape[1], column='G3_c', value=0)\n",
    "\n",
    "    train_df.loc[train_df['G3'] >= 10, 'G3_c'] = 1\n",
    "    test_df.loc[test_df['G3'] >= 10, 'G3_c'] = 1\n",
    "    train_G3_c = train_df['G3_c']\n",
    "    test_G3_c = test_df['G3_c']\n",
    "    test_G3 = test_df['G3']\n",
    "    train_df = train_df.drop(columns=['index', 'G3', 'G3_c'])\n",
    "    test_df = test_df.drop(columns=['index', 'G3', 'G3_c'])\n",
    "\n",
    "    #normalize\n",
    "    train_df = (train_df-train_df.mean())/train_df.std()\n",
    "    test_df = (test_df-test_df.mean())/test_df.std()\n",
    "    train_df = train_df.values\n",
    "    test_df = test_df.values\n",
    "    X = np.insert(train_df, 0, np.ones((1, train_df.shape[0])), axis=1)\n",
    "    #print(train_G3_c.shape)\n",
    "    cost, theta = gradientDescent(X, train_G3_c, 0.01, 2900)\n",
    "    logistic_R_predict_G3 = np.matmul(np.insert(test_df, 0, np.ones((1, test_df.shape[0])), axis=1), theta)\n",
    "    logistic_R_predict_G3 = sigmoid_v(logistic_R_predict_G3)\n",
    "    \n",
    "    plt.ylabel(\"Cost\")\n",
    "    plt.xlabel(\"Epoch\")\n",
    "    plt.plot(np.arange(len(cost)) ,cost, \"b\")\n",
    "    plt.show()\n",
    "    logistic_R_RMSE = float((np.sum((logistic_R_predict_G3-test_G3_c)**2)/len(test_G3_c))**(1/2))\n",
    "    print(\"Logistic Regression with regularization λ = 1.0 and bias term\\nRMSE: \"+str(logistic_R_RMSE)+'\\n')\n",
    "    logistic_R_predict_G3_09 = np.zeros(200)\n",
    "    logistic_R_predict_G3_05 = np.zeros(200)\n",
    "    logistic_R_predict_G3_01 = np.zeros(200)\n",
    "    logistic_R_predict_G3_09[:][logistic_R_predict_G3[:] < 0.9] = 0\n",
    "    logistic_R_predict_G3_09[:][logistic_R_predict_G3[:] > 0.9] = 1\n",
    "    logistic_R_predict_G3_05[:][logistic_R_predict_G3[:] < 0.5] = 0\n",
    "    logistic_R_predict_G3_05[:][logistic_R_predict_G3[:] > 0.5] = 1\n",
    "    logistic_R_predict_G3_01[:][logistic_R_predict_G3[:] < 0.1] = 0\n",
    "    logistic_R_predict_G3_01[:][logistic_R_predict_G3[:] > 0.1] = 1\n",
    "    d = {'True_G3':test_G3,'True_G3_c':test_G3_c , 'predict_G3_0.9':logistic_R_predict_G3_09, 'predict_G3_0.5':logistic_R_predict_G3_05,'predict_G3_0.1':logistic_R_predict_G3_01}\n",
    "    result_df = pd.DataFrame(data=d)\n",
    "    print(result_df)\n",
    "    \n",
    "    return result_df"
   ]
  },
  {
   "cell_type": "markdown",
   "metadata": {},
   "source": [
    "## Part2 (c)(d): plot confusion matrics for (a) and (b)"
   ]
  },
  {
   "cell_type": "code",
   "execution_count": 1049,
   "metadata": {},
   "outputs": [],
   "source": [
    "def plot_confusion(LR_part2_df, logistic_df, threshold):\n",
    "    TP_LR = 0\n",
    "    TN_LR = 0\n",
    "    FP_LR = 0\n",
    "    FN_LR = 0\n",
    "    for i in range(LR_part2_df.shape[0]):\n",
    "        if LR_part2_df['True_G3_c'][i] == LR_part2_df['predict_G3_'+str(threshold)][i]:\n",
    "            if LR_part2_df['predict_G3_'+str(threshold)][i] == 1:\n",
    "                TP_LR += 1\n",
    "            elif LR_part2_df['predict_G3_'+str(threshold)][i] == 0:\n",
    "                TN_LR += 1\n",
    "        elif LR_part2_df['True_G3_c'][i] != LR_part2_df['predict_G3_'+str(threshold)][i]:\n",
    "            if LR_part2_df['predict_G3_'+str(threshold)][i] == 1:\n",
    "                FP_LR += 1\n",
    "            elif LR_part2_df['predict_G3_'+str(threshold)][i] == 0:\n",
    "                FN_LR += 1\n",
    "    TP_log = 0\n",
    "    TN_log = 0\n",
    "    FP_log = 0\n",
    "    FN_log = 0\n",
    "    for i in range(logistic_df.shape[0]):\n",
    "        if logistic_df['True_G3_c'][i] == logistic_df['predict_G3_'+str(threshold)][i]:\n",
    "            if logistic_df['predict_G3_'+str(threshold)][i] == 1:\n",
    "                TP_log += 1\n",
    "            elif logistic_df['predict_G3_'+str(threshold)][i] == 0:\n",
    "                TN_log += 1\n",
    "        elif logistic_df['True_G3_c'][i] !=logistic_df['predict_G3_'+str(threshold)][i]:\n",
    "            if logistic_df['predict_G3_'+str(threshold)][i] == 1:\n",
    "                FP_log += 1\n",
    "            elif logistic_df['predict_G3_'+str(threshold)][i] == 0:\n",
    "                FN_log += 1\n",
    "                \n",
    "    array_LR = [[TN_LR,FN_LR],[FP_LR,TP_LR]]\n",
    "    array_log = [[TN_log,FN_log],[FP_log,TP_log]]\n",
    "    df_LR = pd.DataFrame(array_LR, index = ['predict = 0','predict =1'], columns=['true = 0','true = 1'])\n",
    "    df_log = pd.DataFrame(array_log, index = ['predict = 0','predict =1'], columns=['true = 0','true = 1'])\n",
    "    fig = plt.figure(figsize=(10,7))\n",
    "    ax1 = fig.add_subplot(221)\n",
    "    ax2 = fig.add_subplot(222)\n",
    "    sn.heatmap(df_LR, annot=True, ax =ax1, fmt='g')\n",
    "    sn.heatmap(df_log, annot=True , ax=ax2, fmt='g')"
   ]
  },
  {
   "cell_type": "markdown",
   "metadata": {},
   "source": [
    "## Part3 (a): Hidden test set"
   ]
  },
  {
   "cell_type": "code",
   "execution_count": 1050,
   "metadata": {},
   "outputs": [],
   "source": [
    "def part3_a(X):\n",
    "    select_columns = ['school','sex','age','famsize','studytime','failures','activities','higher','internet','romantic','famrel','freetime','goout','Dalc','Walc','health','absences']\n",
    "    df = pd.read_csv('test_no_G3.csv')\n",
    "    df = df[select_columns]\n",
    "    df = pd.get_dummies(df)\n",
    "    df = (df-df.mean())/df.std()\n",
    "    df = df.values\n",
    "    part3_a_predict_G3 = np.matmul(np.insert(df, 0, np.ones((1, df.shape[0])), axis=1), X)\n",
    "    return part3_a_predict_G3"
   ]
  },
  {
   "cell_type": "markdown",
   "metadata": {},
   "source": [
    "## Main Function"
   ]
  },
  {
   "cell_type": "code",
   "execution_count": 1083,
   "metadata": {},
   "outputs": [
    {
     "name": "stdout",
     "output_type": "stream",
     "text": [
      "[[-0.59915717  0.02411284 -0.40402497 ...  0.50553646 -1.36943445\n",
      "   1.36943445]\n",
      " [-1.41572572 -1.1815293  -0.40402497 ...  0.50553646  0.72931567\n",
      "  -0.72931567]\n",
      " [ 0.21741138  1.22975499 -0.40402497 ... -1.97562408  0.72931567\n",
      "  -0.72931567]\n",
      " ...\n",
      " [ 1.03397993  0.02411284 -0.40402497 ...  0.50553646 -1.36943445\n",
      "   1.36943445]\n",
      " [ 0.21741138 -1.1815293  -0.40402497 ... -1.97562408  0.72931567\n",
      "  -0.72931567]\n",
      " [ 0.21741138  0.02411284 -0.40402497 ...  0.50553646 -1.36943445\n",
      "   1.36943445]]\n",
      "Linear Regression with Pseudo-inverse\n",
      "RMSE: 11.535571773240019\n",
      "\n",
      "Linear Regression with regularization λ = 1.0\n",
      "RMSE: 11.535545207428164\n",
      "\n",
      "Linear Regression with regularization λ = 1.0 and bias term\n",
      "RMSE: 3.3651304926583543\n",
      "\n"
     ]
    },
    {
     "data": {
      "image/png": "[encoded data removed]",
      "text/plain": [
       "<matplotlib.figure.Figure at 0x10c248630>"
      ]
     },
     "metadata": {},
     "output_type": "display_data"
    },
    {
     "name": "stdout",
     "output_type": "stream",
     "text": [
      "===================== Part2 (a) =======================\n",
      "\n",
      "Linear Regression with regularization λ = 1.0 and bias term\n",
      "RMSE: 0.3890201041466288\n",
      "\n",
      "     True_G3  True_G3_c  predict_G3_0.1  predict_G3_0.5  predict_G3_0.9\n",
      "0          9          0             1.0             1.0             1.0\n",
      "1         11          1             1.0             1.0             1.0\n",
      "2         15          1             1.0             1.0             0.0\n",
      "3         13          1             1.0             1.0             0.0\n",
      "4          9          0             1.0             1.0             1.0\n",
      "5         13          1             1.0             1.0             0.0\n",
      "6         12          1             1.0             1.0             0.0\n",
      "7          9          0             1.0             1.0             0.0\n",
      "8         15          1             1.0             1.0             1.0\n",
      "9         13          1             1.0             1.0             1.0\n",
      "10        12          1             1.0             1.0             0.0\n",
      "11        12          1             1.0             1.0             0.0\n",
      "12         5          0             1.0             0.0             0.0\n",
      "13         9          0             1.0             1.0             0.0\n",
      "14        18          1             1.0             1.0             0.0\n",
      "15         0          0             1.0             1.0             0.0\n",
      "16        17          1             1.0             1.0             1.0\n",
      "17        16          1             1.0             1.0             0.0\n",
      "18         0          0             1.0             1.0             0.0\n",
      "19         7          0             1.0             1.0             0.0\n",
      "20        16          1             1.0             1.0             1.0\n",
      "21        10          1             1.0             1.0             1.0\n",
      "22         9          0             1.0             0.0             0.0\n",
      "23        10          1             1.0             1.0             0.0\n",
      "24        13          1             1.0             1.0             0.0\n",
      "25        15          1             1.0             1.0             0.0\n",
      "26         8          0             1.0             1.0             0.0\n",
      "27        13          1             1.0             1.0             0.0\n",
      "28        13          1             1.0             1.0             0.0\n",
      "29         5          0             1.0             1.0             0.0\n",
      "..       ...        ...             ...             ...             ...\n",
      "170       10          1             1.0             1.0             0.0\n",
      "171       12          1             1.0             0.0             0.0\n",
      "172        6          0             1.0             0.0             0.0\n",
      "173       17          1             1.0             1.0             1.0\n",
      "174       11          1             1.0             1.0             0.0\n",
      "175       18          1             1.0             1.0             0.0\n",
      "176       11          1             1.0             1.0             0.0\n",
      "177       13          1             1.0             1.0             0.0\n",
      "178       11          1             1.0             1.0             0.0\n",
      "179        0          0             1.0             0.0             0.0\n",
      "180       11          1             1.0             1.0             0.0\n",
      "181       16          1             1.0             1.0             0.0\n",
      "182        8          0             1.0             1.0             0.0\n",
      "183        8          0             1.0             1.0             0.0\n",
      "184       10          1             1.0             1.0             0.0\n",
      "185        9          0             1.0             1.0             0.0\n",
      "186       11          1             1.0             1.0             0.0\n",
      "187       10          1             1.0             1.0             1.0\n",
      "188        9          0             1.0             1.0             0.0\n",
      "189       11          1             1.0             1.0             0.0\n",
      "190       13          1             1.0             1.0             1.0\n",
      "191       11          1             1.0             1.0             1.0\n",
      "192       19          1             1.0             1.0             1.0\n",
      "193       17          1             1.0             1.0             1.0\n",
      "194       17          1             1.0             1.0             0.0\n",
      "195       11          1             1.0             1.0             1.0\n",
      "196       14          1             1.0             1.0             1.0\n",
      "197        4          0             1.0             0.0             0.0\n",
      "198       13          1             1.0             1.0             0.0\n",
      "199       14          1             1.0             1.0             0.0\n",
      "\n",
      "[200 rows x 5 columns]\n",
      "Linear Regression with regularization λ = 1.0 and bias term\n",
      "RMSE: 0.3890201041466288\n",
      "\n",
      "===================== Part2 (b) =======================\n",
      "\n",
      "1.0\n",
      "cost: 528.9603940005029\n"
     ]
    },
    {
     "data": {
      "image/png": "[encoded data removed]",
      "text/plain": [
       "<matplotlib.figure.Figure at 0x1a1bad89b0>"
      ]
     },
     "metadata": {},
     "output_type": "display_data"
    },
    {
     "name": "stdout",
     "output_type": "stream",
     "text": [
      "Logistic Regression with regularization λ = 1.0 and bias term\n",
      "RMSE: 0.3691472826778792\n",
      "\n",
      "     True_G3  True_G3_c  predict_G3_0.1  predict_G3_0.5  predict_G3_0.9\n",
      "0         10          1             1.0             0.0             0.0\n",
      "1          9          0             1.0             1.0             0.0\n",
      "2         14          1             1.0             1.0             0.0\n",
      "3         13          1             1.0             1.0             0.0\n",
      "4          9          0             1.0             1.0             1.0\n",
      "5         18          1             1.0             1.0             0.0\n",
      "6         17          1             1.0             1.0             0.0\n",
      "7         15          1             1.0             1.0             0.0\n",
      "8          0          0             1.0             1.0             0.0\n",
      "9         13          1             1.0             1.0             1.0\n",
      "10        12          1             1.0             1.0             0.0\n",
      "11        15          1             1.0             1.0             0.0\n",
      "12         7          0             1.0             0.0             0.0\n",
      "13        10          1             1.0             1.0             0.0\n",
      "14         9          0             1.0             1.0             0.0\n",
      "15        17          1             1.0             1.0             1.0\n",
      "16        11          1             1.0             1.0             1.0\n",
      "17        13          1             1.0             1.0             1.0\n",
      "18        12          1             1.0             1.0             0.0\n",
      "19        11          1             1.0             1.0             0.0\n",
      "20        10          1             1.0             1.0             0.0\n",
      "21        18          1             1.0             1.0             1.0\n",
      "22        12          1             1.0             1.0             0.0\n",
      "23        10          1             1.0             1.0             0.0\n",
      "24        10          1             1.0             1.0             0.0\n",
      "25        12          1             1.0             1.0             0.0\n",
      "26        16          1             1.0             1.0             1.0\n",
      "27        11          1             1.0             1.0             0.0\n",
      "28        15          1             1.0             1.0             0.0\n",
      "29        11          1             1.0             1.0             0.0\n",
      "..       ...        ...             ...             ...             ...\n",
      "170       14          1             1.0             1.0             0.0\n",
      "171       13          1             1.0             1.0             0.0\n",
      "172       13          1             1.0             1.0             0.0\n",
      "173       13          1             1.0             1.0             0.0\n",
      "174       17          1             1.0             1.0             0.0\n",
      "175       15          1             1.0             1.0             0.0\n",
      "176        7          0             1.0             0.0             0.0\n",
      "177       19          1             1.0             1.0             0.0\n",
      "178       10          1             1.0             1.0             1.0\n",
      "179       10          1             1.0             1.0             0.0\n",
      "180        9          0             1.0             1.0             0.0\n",
      "181       15          1             1.0             1.0             0.0\n",
      "182       16          1             1.0             1.0             0.0\n",
      "183       11          1             1.0             1.0             0.0\n",
      "184        9          0             1.0             1.0             0.0\n",
      "185       16          1             1.0             1.0             0.0\n",
      "186       17          1             1.0             1.0             1.0\n",
      "187       11          1             1.0             1.0             0.0\n",
      "188        8          0             1.0             1.0             0.0\n",
      "189        9          0             1.0             1.0             0.0\n",
      "190       18          1             1.0             1.0             1.0\n",
      "191        9          0             1.0             1.0             0.0\n",
      "192        5          0             1.0             1.0             0.0\n",
      "193       13          1             1.0             1.0             0.0\n",
      "194        0          0             1.0             1.0             0.0\n",
      "195       17          1             1.0             1.0             0.0\n",
      "196       11          1             1.0             1.0             0.0\n",
      "197       12          1             1.0             1.0             1.0\n",
      "198       14          1             1.0             1.0             0.0\n",
      "199       11          1             1.0             1.0             0.0\n",
      "\n",
      "[200 rows x 5 columns]\n",
      "===================== Part2 (c) =======================\n",
      "\n",
      "===================== Part2 (d) =======================\n",
      "\n",
      "===================== Part3 (a) =======================\n",
      "\n",
      "=================== end of part2 =====================\n"
     ]
    },
    {
     "data": {
      "image/png": "[encoded data removed]",
      "text/plain": [
       "<matplotlib.figure.Figure at 0x1a1b8aafd0>"
      ]
     },
     "metadata": {},
     "output_type": "display_data"
    },
    {
     "data": {
      "image/png": "[encoded data removed]",
      "text/plain": [
       "<matplotlib.figure.Figure at 0x1a1b8a5f28>"
      ]
     },
     "metadata": {},
     "output_type": "display_data"
    }
   ],
   "source": [
    "train_G3, test_G3, train_df, test_df = data_preprocess()\n",
    "LR_predict_G3, LR_RMSE = LR_pseudo_inverse(train_df, test_df, train_G3, test_G3)\n",
    "LR_reg_predict_G3, LR_reg_RMSE = LR_reg(train_df, test_df, train_G3, test_G3)\n",
    "LR_reg_bias_predict_G3, LR_reg_bias_RMSE, weight_part1_d = LR_reg_bias(train_df, test_df, train_G3, test_G3)\n",
    "plot_result(test_G3, LR_predict_G3, LR_reg_predict_G3, LR_reg_bias_predict_G3, LR_RMSE, LR_reg_RMSE, LR_reg_bias_RMSE)\n",
    "print(\"===================== Part2 (a) =======================\\n\")\n",
    "LR_part2_df = LR_reg_bias_part2()\n",
    "\n",
    "print(\"===================== Part2 (b) =======================\\n\")\n",
    "logistic_df = logistic_R()\n",
    "\n",
    "print(\"===================== Part2 (c) =======================\\n\")\n",
    "plot_confusion(LR_part2_df, logistic_df, 0.5)\n",
    "\n",
    "print(\"===================== Part2 (d) =======================\\n\")\n",
    "plot_confusion(LR_part2_df, logistic_df, 0.9)\n",
    "\n",
    "print(\"===================== Part3 (a) =======================\\n\")\n",
    "print(\"=================== end of part2 =====================\")"
   ]
  },
  {
   "cell_type": "code",
   "execution_count": null,
   "metadata": {},
   "outputs": [],
   "source": []
  }
 ],
 "metadata": {
  "kernelspec": {
   "display_name": "Python 3",
   "language": "python",
   "name": "python3"
  },
  "language_info": {
   "codemirror_mode": {
    "name": "ipython",
    "version": 3
   },
   "file_extension": ".py",
   "mimetype": "text/x-python",
   "name": "python",
   "nbconvert_exporter": "python",
   "pygments_lexer": "ipython3",
   "version": "3.6.4"
  }
 },
 "nbformat": 4,
 "nbformat_minor": 2
}
